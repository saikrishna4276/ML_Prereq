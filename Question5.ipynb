{
  "cells": [
    {
      "cell_type": "markdown",
      "metadata": {
        "colab_type": "text",
        "id": "view-in-github"
      },
      "source": [
        "<a href=\"https://colab.research.google.com/github/saikrishna4276/ML_Prereq/blob/master/Question5.ipynb\" target=\"_parent\"><img src=\"https://colab.research.google.com/assets/colab-badge.svg\" alt=\"Open In Colab\"/></a>"
      ]
    },
    {
      "cell_type": "code",
      "execution_count": null,
      "metadata": {
        "colab": {
          "base_uri": "https://localhost:8080/"
        },
        "id": "2VU-DF7uiXCK",
        "outputId": "7905ea6b-0f93-40c3-fb98-02a0e5586847"
      },
      "outputs": [
        {
          "data": {
            "text/plain": [
              "(DeviceArray(2.5403023, dtype=float32, weak_type=True),\n",
              " DeviceArray(3.5244129, dtype=float32, weak_type=True))"
            ]
          },
          "execution_count": 36,
          "metadata": {},
          "output_type": "execute_result"
        }
      ],
      "source": [
        "import numpy as np\n",
        "import jax\n",
        "import jax.numpy as jnp\n",
        "from jax import grad\n",
        "def f(x,y):\n",
        "    return x**2*y+y**3*jnp.sin(x) \n",
        "grad_f = grad(f, argnums=(0,1),allow_int=True)\n",
        "grad_f(1.,1.)"
      ]
    }
  ],
  "metadata": {
    "colab": {
      "authorship_tag": "ABX9TyOUoCm/0rZCLIeCGzTaSiv1",
      "include_colab_link": true,
      "provenance": []
    },
    "kernelspec": {
      "display_name": "Python 3",
      "name": "python3"
    },
    "language_info": {
      "name": "python"
    }
  },
  "nbformat": 4,
  "nbformat_minor": 0
}
