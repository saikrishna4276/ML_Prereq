{
 "cells": [
  {
   "cell_type": "markdown",
   "id": "20f2239e",
   "metadata": {},
   "source": [
    "1.Number of multiplications: n*k*p; Number of additions: n*(k-1)*p\n",
    "\n",
    "reason: In matrix multiplication, first row of first matrix (n*k) is multiplies with first column of second matrix(k*p).As the number of elements in first row and first column of both matrices is k, the number of multiplications are k and additions are k-1 (to add k numbers we need k-1 add operators). So, for first row and first column, the multiplications are k and additions are k-1. We know that each row of first matrix is multiplies with each column of second matrix and as number of rows and coulumns in first and second matrices are n and p respectvely, the number of multiplication sare n*k*p and additions are n*(k-1)*p."
   ]
  },
  {
   "cell_type": "markdown",
   "id": "3a5fcac3",
   "metadata": {},
   "source": [
    "2. Creating two methods named mul and mul_np where mul is implemeted using lists and mul_np is implemeted using numpy"
   ]
  },
  {
   "cell_type": "code",
   "execution_count": 1,
   "id": "ffd49d76",
   "metadata": {},
   "outputs": [],
   "source": [
    "import numpy as np"
   ]
  },
  {
   "cell_type": "code",
   "execution_count": 5,
   "id": "5be465a7",
   "metadata": {},
   "outputs": [
    {
     "name": "stdout",
     "output_type": "stream",
     "text": [
      "18.6 µs ± 859 ns per loop (mean ± std. dev. of 7 runs, 10,000 loops each)\n",
      "2.81 µs ± 63.9 ns per loop (mean ± std. dev. of 7 runs, 100,000 loops each)\n"
     ]
    }
   ],
   "source": [
    "def mul(A,B):\n",
    "    C=[[sum(a * b for a, b in zip(A_r, B_c)) for B_c in zip(*B)]  for A_r in A]\n",
    "    return C\n",
    "def mul_np(A,B):\n",
    "    return A @ B\n",
    "A=[[1,2,3],[4,5,6],[7,8,9]]\n",
    "B=[[1,0,0],[0,1,0],[0,0,1]]\n",
    "a=np.array([[1,2,3],[4,5,6],[7,8,9]])\n",
    "b=np.array([[1,0,0],[0,1,0],[0,0,1]])\n",
    "%timeit mul(A,B)\n",
    "%timeit mul_np(a,b)\n",
    "\n",
    "            "
   ]
  },
  {
   "cell_type": "markdown",
   "id": "c65ff143",
   "metadata": {},
   "source": [
    "Execution using numpy is faster than list of lists.\n",
    "Reason:\n",
    "An array is a collection of homogeneous data-types that are stored in contiguous memory locations. On the other hand, a list in Python is a collection of heterogeneous data types stored in non-contiguous memory locations.\n",
    "The NumPy package breaks down a task into multiple fragments and then processes all the fragments parallelly.\n",
    "The NumPy package integrates C, C++, and Fortran codes in Python. These programming languages have very little execution time compared to Python."
   ]
  },
  {
   "cell_type": "markdown",
   "id": "c4b55fee",
   "metadata": {},
   "source": [
    "4.  Gradient of given function is [$2xy+y^3cos(x)$, $x^2y+3y^2sin(x)$]\n"
   ]
  },
  {
   "cell_type": "code",
   "execution_count": null,
   "id": "feda0336",
   "metadata": {},
   "outputs": [],
   "source": []
  }
 ],
 "metadata": {
  "kernelspec": {
   "display_name": "Python 3 (ipykernel)",
   "language": "python",
   "name": "python3"
  },
  "language_info": {
   "codemirror_mode": {
    "name": "ipython",
    "version": 3
   },
   "file_extension": ".py",
   "mimetype": "text/x-python",
   "name": "python",
   "nbconvert_exporter": "python",
   "pygments_lexer": "ipython3",
   "version": "3.10.8"
  }
 },
 "nbformat": 4,
 "nbformat_minor": 5
}
